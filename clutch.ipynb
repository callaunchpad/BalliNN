{
 "cells": [
  {
   "cell_type": "code",
   "execution_count": null,
   "metadata": {},
   "outputs": [],
   "source": [
    "from nba_api.stats.static import teams\n",
    "from nba_api.stats.endpoints import TeamDashboardByClutch, commonplayerinfo"
   ]
  },
  {
   "cell_type": "code",
   "execution_count": null,
   "metadata": {},
   "outputs": [],
   "source": [
    "# fetch teams\n",
    "nba_teams = teams.get_teams()\n",
    "kings = [team for team in nba_teams if team['abbreviation'] == 'SAC'][0]\n",
    "rockets = [team for team in nba_teams if team['abbreviation'] == 'HOU'][0]\n",
    "kings_id = kings['id']\n",
    "rockets_id = rockets['id']\n",
    "print('kings_id: %d' % kings_id)\n",
    "print('rockets_id: %d' % rockets_id)"
   ]
  },
  {
   "cell_type": "code",
   "execution_count": null,
   "metadata": {},
   "outputs": [],
   "source": [
    "data = TeamDashboardByClutch(team_id=kings_id,\n",
    "                             last_n_games='10',\n",
    "                             measure_type_detailed_defense='Advanced',\n",
    "                             month='2',\n",
    "                             opponent_team_id=rockets_id,\n",
    "                             pace_adjust='Y',\n",
    "                             per_mode_detailed='PerPlay',\n",
    "                             period='0',\n",
    "                             plus_minus='Y',\n",
    "                             rank='Y',\n",
    "                             season='2017-2018',\n",
    "                             season_type_all_star='Regular Season',\n",
    "#                              date_from_nullable='',\n",
    "#                              date_to_nullable='',\n",
    "#                              game_segment_nullable='First Half',\n",
    "#                              league_id_nullable='00',\n",
    "#                              location_nullable=LocationNullable.default,\n",
    "#                              outcome_nullable=OutcomeNullable.default,\n",
    "#                              po_round_nullable='',\n",
    "#                              season_segment_nullable=SeasonSegmentNullable.default,\n",
    "#                              shot_clock_range_nullable=ShotClockRangeNullable.default,\n",
    "#                              vs_conference_nullable=ConferenceNullable.default,\n",
    "#                              vs_division_nullable=DivisionNullable.default,\n",
    "                             proxy=None,\n",
    "                             headers=None,\n",
    "                             timeout=30,\n",
    "                             get_request=True)"
   ]
  },
  {
   "cell_type": "code",
   "execution_count": null,
   "metadata": {},
   "outputs": [],
   "source": [
    "for d in data.data_sets:\n",
    "    print(d.get_dict())"
   ]
  }
 ],
 "metadata": {
  "kernelspec": {
   "display_name": "Python 3",
   "language": "python",
   "name": "python3"
  },
  "language_info": {
   "codemirror_mode": {
    "name": "ipython",
    "version": 3
   },
   "file_extension": ".py",
   "mimetype": "text/x-python",
   "name": "python",
   "nbconvert_exporter": "python",
   "pygments_lexer": "ipython3",
   "version": "3.7.4"
  }
 },
 "nbformat": 4,
 "nbformat_minor": 2
}
