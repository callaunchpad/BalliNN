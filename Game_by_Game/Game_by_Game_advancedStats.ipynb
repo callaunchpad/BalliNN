{
 "cells": [
  {
   "cell_type": "code",
   "execution_count": 1,
   "metadata": {},
   "outputs": [],
   "source": [
    "from nba_api.stats.endpoints import commonplayerinfo, playercareerstats, leaguegamefinder, commonteamroster, leagueseasonmatchups\n",
    "from nba_api.stats.static import players, teams\n",
    "from os import path\n",
    "import pandas as pd\n",
    "import pickle\n",
    "import numpy as np"
   ]
  },
  {
   "cell_type": "code",
   "execution_count": 4,
   "metadata": {},
   "outputs": [],
   "source": [
    "\"\"\" for saving and loading things to a pickle file. Don't need to add extension to the file name \"\"\"\n",
    "def save_obj(obj, filename, dirname='./assets/pickle_files', ):\n",
    "    with open(path.join(dirname, filename + '.pkl'), 'wb') as f:\n",
    "        pickle.dump(obj, f, pickle.HIGHEST_PROTOCOL)\n",
    "\n",
    "def load_obj(filename, dirname='./assets/pickle_files'):\n",
    "    with open(path.join(dirname, filename + '.pkl'), 'rb') as f:\n",
    "        return pickle.load(f)"
   ]
  },
  {
   "cell_type": "code",
   "execution_count": 5,
   "metadata": {},
   "outputs": [],
   "source": [
    "\"\"\" load the team_names dictionary in pickle_files \"\"\"\n",
    "advanced_stats = load_obj('advanced_stats')"
   ]
  },
  {
   "cell_type": "code",
   "execution_count": null,
   "metadata": {},
   "outputs": [],
   "source": [
    "\"\"\" updated teams_names dictionary where the key is team_id, value is team stats\"\"\"\n",
    "team_names_test = {}\n",
    "\n",
    "ids = team_ids[\"id\"]\n",
    "abr = team_ids[\"abbreviation\"]\n",
    "\n",
    "for i in range(len(ids)):\n",
    "    real_value = team_names[abr[i]]\n",
    "    test_key = ids[i]\n",
    "    team_names_test[test_key] = real_value"
   ]
  },
  {
   "cell_type": "code",
   "execution_count": null,
   "metadata": {},
   "outputs": [],
   "source": []
  },
  {
   "cell_type": "code",
   "execution_count": null,
   "metadata": {},
   "outputs": [],
   "source": []
  }
 ],
 "metadata": {
  "kernelspec": {
   "display_name": "virtualenvir",
   "language": "python",
   "name": "virtualenvir"
  },
  "language_info": {
   "codemirror_mode": {
    "name": "ipython",
    "version": 3
   },
   "file_extension": ".py",
   "mimetype": "text/x-python",
   "name": "python",
   "nbconvert_exporter": "python",
   "pygments_lexer": "ipython3",
   "version": "3.7.4"
  }
 },
 "nbformat": 4,
 "nbformat_minor": 2
}
